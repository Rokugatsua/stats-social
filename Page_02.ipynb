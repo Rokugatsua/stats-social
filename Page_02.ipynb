{
 "nbformat": 4,
 "nbformat_minor": 2,
 "metadata": {
  "language_info": {
   "name": "python",
   "codemirror_mode": {
    "name": "ipython",
    "version": 3
   },
   "version": "3.7.6-final"
  },
  "orig_nbformat": 2,
  "file_extension": ".py",
  "mimetype": "text/x-python",
  "name": "python",
  "npconvert_exporter": "python",
  "pygments_lexer": "ipython3",
  "version": 3,
  "kernelspec": {
   "name": "python38164bitriverdatacondaa10756a397084a77ac69f5304a4836a4",
   "display_name": "Python 3.8.1 64-bit ('riverdata': conda)"
  }
 },
 "cells": [
  {
   "cell_type": "code",
   "execution_count": 3,
   "metadata": {},
   "outputs": [
    {
     "output_type": "stream",
     "name": "stdout",
     "text": "Koefisien assosiation with Chamer :  0.47513530339053217\n"
    }
   ],
   "source": [
    "\"\"\" Sambungan dari Page_01. mengunakan data yang sama namun dengan rumusan yang berbeda. \n",
    "yaitu, rumusan Cramer, rumusan Pearson, rumusan Tschuprow\"\"\"\n",
    "\n",
    "import pandas as panda\n",
    "import numpy as np\n",
    "from scipy.stats import chi2_contingency as chi2s\n",
    "import math\n",
    "\n",
    "#Making Table data with panda dataframe\n",
    "# Table 1.1  -  Banyaknya orang menurut agama dan partai yang disenangi. note: this example from book, not real data\n",
    "table = panda.DataFrame(np.array([[6,13,14],[22,0,1],[7,8,9]]), \\\n",
    "columns=[\"islam\",\"kristen\",\"lainnya\"],index=[\"GOLKAR\",\"PPP\",\"PDI\"])\n",
    "\n",
    "# Rumusan Chamer\n",
    "class Chamer:\n",
    "    \"\"\"\n",
    "    Rumusan Chamer (nominal) :\n",
    "           _________________\n",
    "          /       X2\n",
    "    C =  / _________________\n",
    "        /  n (min (b,k) - 1)\n",
    "\n",
    "    X2 = Kai Kuadrat.\n",
    "    min (b,k) adalah minimal dari jumlah garis atau jumlah kolom.\n",
    "    \"\"\"\n",
    "    def __init__(self, table):\n",
    "        self.table = table\n",
    "    \n",
    "    def nominal(self):\n",
    "        chi2, s, p, arrs = chi2s(self.table)\n",
    "        X2 = chi2\n",
    "        n = sum(self.table.sum())\n",
    "        min_bk = min(self.table.shape)\n",
    "        c = X2 / (n * (min_bk -1) )\n",
    "        return math.sqrt(c)\n",
    "       \n",
    "\n",
    "# menggunakan method class Chamer dengan data dari variable \"table\"\n",
    "chamer = Chamer(table)\n",
    "cn = chamer.nominal()\n",
    "print(\"Koefisien assosiation with Chamer : \", cn)"
   ]
  },
  {
   "cell_type": "code",
   "execution_count": 5,
   "metadata": {},
   "outputs": [
    {
     "output_type": "stream",
     "name": "stdout",
     "text": "Koefisien assosiation with Pearson :  0.5577283414290551\n"
    }
   ],
   "source": [
    "# Rumusan Pearson\n",
    "class Pearson:\n",
    "    \"\"\"\n",
    "    Rumusan Pearson (nominal) :\n",
    "           _______\n",
    "          /  X2\n",
    "    P =  / _______\n",
    "        /  n + X2\n",
    "\n",
    "    X2 = Kai Kuadrat.\n",
    "    \"\"\"\n",
    "    def __init__(self, table):\n",
    "        self.table = table\n",
    "\n",
    "    def nominal(self):\n",
    "        chi2, s, p, arrs = chi2s(self.table)\n",
    "        X2 = chi2\n",
    "        n = sum(self.table.sum())\n",
    "\n",
    "        P = X2 / (n + X2)\n",
    "\n",
    "        return math.sqrt(P)\n",
    "        \n",
    "# Menggunakan method Class Pearson dengan mengunakan data dari variable \"table\"\n",
    "pearson = Pearson(table)\n",
    "pn = pearson.nominal()\n",
    "print(\"Koefisien assosiation with Pearson : \", pn)\n",
    ""
   ]
  },
  {
   "cell_type": "code",
   "execution_count": 7,
   "metadata": {},
   "outputs": [
    {
     "output_type": "stream",
     "name": "stdout",
     "text": "Koefisien assosiation with Tschuprow :  0.47513530339053217\n"
    }
   ],
   "source": [
    "# Rumusan Tschuprow\n",
    "class Tschuprow:\n",
    "    \"\"\"\n",
    "    Rumusan Tschuprow (nominal) :\n",
    "            ________________\n",
    "           /       X2\n",
    "    T =   / _________________\n",
    "         /     ______________\n",
    "        /   n / (b - 1) (k -1)\n",
    "    X2 = Kai Kuadrat.\n",
    "    b = baris , k = kolom\n",
    "    \"\"\"\n",
    "    def __init__(self, table):\n",
    "        self.table = table\n",
    "\n",
    "    def nominal(self):\n",
    "        chi2, s, p, arrs = chi2s(self.table)\n",
    "        X2 = chi2\n",
    "        n = sum(self.table.sum())\n",
    "        b, k = self.table.shape\n",
    "        T = X2 / (n * math.sqrt( (b-1) * (k-1) ))\n",
    "        return math.sqrt(T)\n",
    "\n",
    "\n",
    "# Menggunakan method Class Tschuprow dengan mengunakan data dari variable \"table\"\n",
    "tschuprow = Tschuprow(table)\n",
    "tn = tschuprow.nominal()\n",
    "print(\"Koefisien assosiation with Tschuprow : \", tn)\n",
    ""
   ]
  },
  {
   "cell_type": "code",
   "execution_count": null,
   "metadata": {},
   "outputs": [],
   "source": []
  }
 ]
}