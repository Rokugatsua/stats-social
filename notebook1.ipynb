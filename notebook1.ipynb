{
 "nbformat": 4,
 "nbformat_minor": 2,
 "metadata": {
  "language_info": {
   "name": "python",
   "codemirror_mode": {
    "name": "ipython",
    "version": 3
   },
   "version": "3.7.6-final"
  },
  "orig_nbformat": 2,
  "file_extension": ".py",
  "mimetype": "text/x-python",
  "name": "python",
  "npconvert_exporter": "python",
  "pygments_lexer": "ipython3",
  "version": 3,
  "kernelspec": {
   "name": "python38164bitriverdatacondaa10756a397084a77ac69f5304a4836a4",
   "display_name": "Python 3.8.1 64-bit ('riverdata': conda)"
  }
 },
 "cells": [
  {
   "cell_type": "code",
   "execution_count": 28,
   "metadata": {},
   "outputs": [
    {
     "output_type": "execute_result",
     "data": {
      "text/plain": "        islam  kristen  lainnya\nGOLKAR      6       13       14\nPPP        22        0        1\nPDI         7        8        9",
      "text/html": "<div>\n<style scoped>\n    .dataframe tbody tr th:only-of-type {\n        vertical-align: middle;\n    }\n\n    .dataframe tbody tr th {\n        vertical-align: top;\n    }\n\n    .dataframe thead th {\n        text-align: right;\n    }\n</style>\n<table border=\"1\" class=\"dataframe\">\n  <thead>\n    <tr style=\"text-align: right;\">\n      <th></th>\n      <th>islam</th>\n      <th>kristen</th>\n      <th>lainnya</th>\n    </tr>\n  </thead>\n  <tbody>\n    <tr>\n      <th>GOLKAR</th>\n      <td>6</td>\n      <td>13</td>\n      <td>14</td>\n    </tr>\n    <tr>\n      <th>PPP</th>\n      <td>22</td>\n      <td>0</td>\n      <td>1</td>\n    </tr>\n    <tr>\n      <th>PDI</th>\n      <td>7</td>\n      <td>8</td>\n      <td>9</td>\n    </tr>\n  </tbody>\n</table>\n</div>"
     },
     "metadata": {},
     "execution_count": 28
    }
   ],
   "source": [
    "import numpy as np\n",
    "import pandas as panda\n",
    "\n",
    "#Making Table data with panda dataframe\n",
    "# Table 1.1  -  Banyaknya orang menurut agama dan partai yang disenangi. note: this example from book, not real data\n",
    "table = panda.DataFrame(np.array([[6,13,14],[22,0,1],[7,8,9]]), \\\n",
    "columns=[\"islam\",\"kristen\",\"lainnya\"],index=[\"GOLKAR\",\"PPP\",\"PDI\"])\n",
    "\n",
    "\n",
    "#show table\n",
    "table\n",
    "\n",
    ""
   ]
  },
  {
   "cell_type": "code",
   "execution_count": 3,
   "metadata": {},
   "outputs": [
    {
     "output_type": "stream",
     "name": "stdout",
     "text": "Max in columns  : \nislam      22\nkristen    13\nlainnya    14\ndtype: int64\n"
    }
   ],
   "source": [
    "# Goodman Kruskal\n",
    "# Array Max Coloums\n",
    "c_max = table.max()\n",
    "print(\"Max in columns  : \")\n",
    "print(c_max)\n",
    ""
   ]
  },
  {
   "cell_type": "code",
   "execution_count": 4,
   "metadata": {},
   "outputs": [
    {
     "output_type": "stream",
     "name": "stdout",
     "text": "Max value in total coloms : 35\n"
    }
   ],
   "source": [
    "# max value in sum columns\n",
    "max_scol = max(table.sum())\n",
    "print(\"Max value in total coloms :\", max_scol)"
   ]
  },
  {
   "cell_type": "code",
   "execution_count": 5,
   "metadata": {},
   "outputs": [
    {
     "output_type": "stream",
     "name": "stdout",
     "text": "Max value in total rows : 33\n"
    }
   ],
   "source": [
    "# max value in sum rows\n",
    "max_srow = max(table.sum(axis=1))\n",
    "print(\"Max value in total rows :\", max_srow)"
   ]
  },
  {
   "cell_type": "code",
   "execution_count": 6,
   "metadata": {},
   "outputs": [
    {
     "output_type": "stream",
     "name": "stdout",
     "text": "Maz in Rows  : \nGOLKAR    14\nPPP       22\nPDI        9\ndtype: int64\n"
    }
   ],
   "source": [
    "# Array max value in rows\n",
    "r_max = table.max(axis=1)\n",
    "print(\"Maz in Rows  : \")\n",
    "print(r_max)"
   ]
  },
  {
   "cell_type": "code",
   "execution_count": 7,
   "metadata": {},
   "outputs": [
    {
     "output_type": "stream",
     "name": "stdout",
     "text": "totals Value in table :  80\n"
    }
   ],
   "source": [
    "# total all data in table\n",
    "totals = sum(table.sum())\n",
    "print(\"totals Value in table : \", totals)"
   ]
  },
  {
   "cell_type": "code",
   "execution_count": 34,
   "metadata": {},
   "outputs": [
    {
     "output_type": "stream",
     "name": "stdout",
     "text": "Koefisien assosiation with Goodman Kruskal :  0.2826086956521739\n"
    }
   ],
   "source": [
    "# result for Goodman Cruscal\n",
    "# function method\n",
    "def goodman_kruskal(max_in_rows, max_in_columns, max_totals_rows, max_totals_columns, total):\n",
    "    up = (sum(max_in_rows) + sum(max_in_columns)) - max_totals_rows - max_totals_columns\n",
    "    down = (2 * total) - max_totals_rows - max_totals_columns\n",
    "    return up / down\n",
    "\n",
    "result = goodman_kruskal(r_max,c_max, max_scol, max_srow, totals)\n",
    "print(\"Koefisien assosiation with Goodman Kruskal : \",result)\n"
   ]
  },
  {
   "cell_type": "code",
   "execution_count": 33,
   "metadata": {},
   "outputs": [
    {
     "output_type": "stream",
     "name": "stdout",
     "text": "Koefisien assosiation with Goodman Kruskal :  0.2826086956521739\n"
    }
   ],
   "source": [
    "\n",
    "# build a class for same method\n",
    "# class method\n",
    "class Goodman_Kruskal:\n",
    "    def __init__(self, table):\n",
    "        self.table = table\n",
    "\n",
    "    def nominal(self):\n",
    "        up = (sum(self.table.max()) + sum(self.table.max(axis=1))) - \\\n",
    "        max(self.table.sum()) - max(self.table.sum(axis=1))\n",
    "        down = (2 * sum(self.table.sum())) - max(self.table.sum()) - \\\n",
    "        max(self.table.sum(axis=1))\n",
    "        return up / down\n",
    "\n",
    "gk = Goodman_Kruskal(table)\n",
    "result = gk.nominal()\n",
    "print(\"Koefisien assosiation with Goodman Kruskal : \",result)\n",
    "pritn(\"\")"
   ]
  },
  {
   "cell_type": "code",
   "execution_count": null,
   "metadata": {},
   "outputs": [],
   "source": []
  }
 ]
}